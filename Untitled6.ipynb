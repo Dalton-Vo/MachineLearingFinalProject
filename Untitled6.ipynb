{
 "cells": [
  {
   "cell_type": "code",
   "execution_count": 1,
   "metadata": {},
   "outputs": [
    {
     "name": "stdout",
     "output_type": "stream",
     "text": [
      "     buying  maint   door persons lug_boot safety review\n",
      "0     vhigh  vhigh      2       2    small    low  unacc\n",
      "1     vhigh  vhigh      2       2    small    med  unacc\n",
      "2     vhigh  vhigh      2       2    small   high  unacc\n",
      "3     vhigh  vhigh      2       2      med    low  unacc\n",
      "4     vhigh  vhigh      2       2      med    med  unacc\n",
      "...     ...    ...    ...     ...      ...    ...    ...\n",
      "1723    low    low  5more    more      med    med   good\n",
      "1724    low    low  5more    more      med   high  vgood\n",
      "1725    low    low  5more    more      big    low  unacc\n",
      "1726    low    low  5more    more      big    med   good\n",
      "1727    low    low  5more    more      big   high  vgood\n",
      "\n",
      "[1728 rows x 7 columns]\n",
      "[[ 1.342  1.342 -1.342 -1.225  1.225  0.     0.51 ]\n",
      " [ 1.342  1.342 -1.342 -1.225  1.225  1.225  0.51 ]\n",
      " [ 1.342  1.342 -1.342 -1.225  1.225 -1.225  0.51 ]\n",
      " [ 1.342  1.342 -1.342 -1.225  0.     0.     0.51 ]]\n",
      "[0.000e+00 0.000e+00 1.645e-17 0.000e+00 0.000e+00 0.000e+00 4.112e-18]\n",
      "[1. 1. 1. 1. 1. 1. 1.]\n"
     ]
    }
   ],
   "source": [
    "import numpy as np\n",
    "import pandas as pd\n",
    "from sklearn import metrics, neighbors, datasets, svm\n",
    "from sklearn.metrics import precision_recall_fscore_support as score\n",
    "from sklearn.neighbors import KNeighborsClassifier\n",
    "from sklearn.model_selection import train_test_split\n",
    "from sklearn import preprocessing\n",
    "from sklearn.datasets import load_iris\n",
    "from sklearn.model_selection import train_test_split\n",
    "from sklearn.metrics import classification_report, confusion_matrix\n",
    "from sklearn.preprocessing import StandardScaler\n",
    "import pandas as pd\n",
    "import numpy\n",
    "from sklearn.preprocessing import LabelEncoder\n",
    "from numpy import random\n",
    "import seaborn as sns\n",
    "import matplotlib.pyplot as plt \n",
    "import numpy as np\n",
    "from sklearn.utils import resample\n",
    "df1 = pd.read_csv(\"https://archive.ics.uci.edu/ml/machine-learning-databases/car/car.data\",names=['buying','maint','door','persons','lug_boot','safety','review'])\n",
    "df1.fillna(0)\n",
    "print(df1)\n",
    "\n",
    "array = df1.values\n",
    "# separate array into input and output components\n",
    "X, Y = array[:, 0:7], array[:, 4]\n",
    "# ensure inputs are floats and output is an integer label\n",
    "Le= LabelEncoder()\n",
    "X[:, 0] = Le.fit_transform(X[:, 0])\n",
    "X[:, 1] = Le.fit_transform(X[:, 1])\n",
    "X[:, 4] = Le.fit_transform(X[:, 4])\n",
    "X[:, 2] = Le.fit_transform(X[:, 2])\n",
    "X[:, 3] = Le.fit_transform(X[:, 3])\n",
    "X[:, 5] = Le.fit_transform(X[:, 5])\n",
    "X[:, 6] = Le.fit_transform(X[:, 6])\n",
    "\n",
    "scaler = StandardScaler().fit(X)\n",
    "rescaledX = scaler.transform(X)\n",
    "\n",
    "# summarize transformed data\n",
    "numpy.set_printoptions(precision=3)\n",
    "print(rescaledX[0:4,:])\n",
    "print (rescaledX.mean(axis = 0))      # tính giá trị trung bình mỗi cột\n",
    "print (rescaledX.std(axis = 0))       # tính giá trị phương sai mỗi cột"
   ]
  },
  {
   "cell_type": "code",
   "execution_count": 2,
   "metadata": {},
   "outputs": [
    {
     "name": "stdout",
     "output_type": "stream",
     "text": [
      "Good: 1210\n",
      "Vgood: 384\n",
      "unacc: 69\n",
      "acc: 65\n"
     ]
    },
    {
     "data": {
      "image/png": "[encoded data removed]",
      "text/plain": [
       "<Figure size 432x288 with 1 Axes>"
      ]
     },
     "metadata": {
      "needs_background": "light"
     },
     "output_type": "display_data"
    }
   ],
   "source": [
    "good, vgood, unacc, acc = df1.review.value_counts()\n",
    "print(f'Good: {good}')\n",
    "print(f'Vgood: {vgood}')\n",
    "print(f'unacc: {unacc}')\n",
    "print(f'acc: {acc}')\n",
    "sns.countplot(x = 'review', data = df1);"
   ]
  },
  {
   "cell_type": "code",
   "execution_count": 3,
   "metadata": {},
   "outputs": [
    {
     "name": "stdout",
     "output_type": "stream",
     "text": [
      "3    1210\n",
      "2    1210\n",
      "1    1210\n",
      "0    1210\n",
      "Name: review, dtype: int64\n"
     ]
    },
    {
     "data": {
      "image/png": "[encoded data removed]",
      "text/plain": [
       "<Figure size 432x288 with 1 Axes>"
      ]
     },
     "metadata": {
      "needs_background": "light"
     },
     "output_type": "display_data"
    }
   ],
   "source": [
    "df_2 = df1[df1.review == 2]\n",
    "df_0 = df1[df1.review == 0]\n",
    "df_3 = df1[df1.review == 3]\n",
    "df_1 = df1[df1.review == 1]\n",
    "count_class_0, count_class_1, count_class_2, count_class_3 = df1.review.value_counts()\n",
    "# # print(count_class_0)\n",
    "# # Oversampling\n",
    "random_seed = 5180440\n",
    "np.random.seed(random_seed)\n",
    "df_new_1 = resample(df_1, replace=True, n_samples=len(df_2), random_state=random_seed)\n",
    "df_new_0 = resample(df_0, replace=True, n_samples=len(df_2), random_state=random_seed)\n",
    "df_new_3 = resample(df_3, replace=True, n_samples=len(df_2), random_state=random_seed)\n",
    "df_test_under = pd.concat([df_new_1, df_new_0, df_new_3, df_2])\n",
    "print(df_test_under.review.value_counts())\n",
    "sns.countplot(x = 'review', data=df_test_under);"
   ]
  },
  {
   "cell_type": "code",
   "execution_count": 4,
   "metadata": {},
   "outputs": [],
   "source": [
    "X=df1.iloc[:,:-1]\n",
    "Y = df1.loc[:,[\"review\"]]\n",
    "le1 = preprocessing.LabelEncoder()\n",
    "le2 = preprocessing.LabelEncoder()\n",
    "X=X.apply(le1.fit_transform)\n",
    "Y=Y.apply(le2.fit_transform)\n",
    "X_train, X_test, y_train, y_test = train_test_split(X, Y, test_size=0.5, random_state=0)"
   ]
  },
  {
   "cell_type": "code",
   "execution_count": 5,
   "metadata": {},
   "outputs": [
    {
     "name": "stdout",
     "output_type": "stream",
     "text": [
      "[[137   0  56   0]\n",
      " [ 17   9   6   0]\n",
      " [ 29   1 569   0]\n",
      " [ 20   2   4  14]]\n",
      "              precision    recall  f1-score   support\n",
      "\n",
      "           0       0.67      0.71      0.69       193\n",
      "           1       0.75      0.28      0.41        32\n",
      "           2       0.90      0.95      0.92       599\n",
      "           3       1.00      0.35      0.52        40\n",
      "\n",
      "    accuracy                           0.84       864\n",
      "   macro avg       0.83      0.57      0.64       864\n",
      "weighted avg       0.85      0.84      0.83       864\n",
      "\n"
     ]
    }
   ],
   "source": [
    "from sklearn.neighbors import KNeighborsClassifier\n",
    "neigh = KNeighborsClassifier(n_neighbors=3)\n",
    "y_pred = neigh.fit(X_train, y_train.values.ravel())\n",
    "predictions = neigh.predict(X_test)\n",
    "print(confusion_matrix(y_test,predictions))\n",
    "print(classification_report(y_test,predictions))"
   ]
  },
  {
   "cell_type": "code",
   "execution_count": 6,
   "metadata": {},
   "outputs": [
    {
     "name": "stdout",
     "output_type": "stream",
     "text": [
      "[[ 13   1  86  93]\n",
      " [  4   1  13  14]\n",
      " [  4   0 511  84]\n",
      " [  0   0   0  40]]\n",
      "              precision    recall  f1-score   support\n",
      "\n",
      "           0       0.62      0.07      0.12       193\n",
      "           1       0.50      0.03      0.06        32\n",
      "           2       0.84      0.85      0.85       599\n",
      "           3       0.17      1.00      0.30        40\n",
      "\n",
      "    accuracy                           0.65       864\n",
      "   macro avg       0.53      0.49      0.33       864\n",
      "weighted avg       0.75      0.65      0.63       864\n",
      "\n"
     ]
    }
   ],
   "source": [
    "from sklearn.naive_bayes import GaussianNB\n",
    "gnb = GaussianNB()\n",
    "y_pred = gnb.fit(X_train, y_train.values.ravel())\n",
    "predictions = gnb.predict(X_test)\n",
    "print(confusion_matrix(y_test,predictions))\n",
    "print(classification_report(y_test,predictions))"
   ]
  },
  {
   "cell_type": "code",
   "execution_count": 7,
   "metadata": {},
   "outputs": [
    {
     "name": "stdout",
     "output_type": "stream",
     "text": [
      "[[ 13   1  86  93]\n",
      " [  4   1  13  14]\n",
      " [  4   0 511  84]\n",
      " [  0   0   0  40]]\n",
      "              precision    recall  f1-score   support\n",
      "\n",
      "           0       0.62      0.07      0.12       193\n",
      "           1       0.50      0.03      0.06        32\n",
      "           2       0.84      0.85      0.85       599\n",
      "           3       0.17      1.00      0.30        40\n",
      "\n",
      "    accuracy                           0.65       864\n",
      "   macro avg       0.53      0.49      0.33       864\n",
      "weighted avg       0.75      0.65      0.63       864\n",
      "\n"
     ]
    }
   ],
   "source": [
    "from sklearn.naive_bayes import MultinomialNB\n",
    "clf = MultinomialNB()\n",
    "clf.fit(X_train, y_train.values.ravel())\n",
    "predictions1 = gnb.predict(X_test)\n",
    "print(confusion_matrix(y_test,predictions1))\n",
    "print(classification_report(y_test,predictions1))"
   ]
  },
  {
   "cell_type": "code",
   "execution_count": 8,
   "metadata": {},
   "outputs": [
    {
     "name": "stdout",
     "output_type": "stream",
     "text": [
      "[[ 13   1  86  93]\n",
      " [  4   1  13  14]\n",
      " [  4   0 511  84]\n",
      " [  0   0   0  40]]\n",
      "              precision    recall  f1-score   support\n",
      "\n",
      "           0       0.62      0.07      0.12       193\n",
      "           1       0.50      0.03      0.06        32\n",
      "           2       0.84      0.85      0.85       599\n",
      "           3       0.17      1.00      0.30        40\n",
      "\n",
      "    accuracy                           0.65       864\n",
      "   macro avg       0.53      0.49      0.33       864\n",
      "weighted avg       0.75      0.65      0.63       864\n",
      "\n"
     ]
    }
   ],
   "source": [
    "from sklearn.naive_bayes import BernoulliNB\n",
    "clf1 = BernoulliNB()\n",
    "clf1.fit(X_train, y_train.values.ravel())\n",
    "predictions2 = gnb.predict(X_test)\n",
    "print(confusion_matrix(y_test,predictions2))\n",
    "print(classification_report(y_test,predictions2))"
   ]
  },
  {
   "cell_type": "code",
   "execution_count": 9,
   "metadata": {},
   "outputs": [
    {
     "name": "stdout",
     "output_type": "stream",
     "text": [
      "[[158   0  35   0]\n",
      " [ 32   0   0   0]\n",
      " [ 31   0 568   0]\n",
      " [ 32   0   0   8]]\n",
      "              precision    recall  f1-score   support\n",
      "\n",
      "           0       0.62      0.82      0.71       193\n",
      "           1       0.00      0.00      0.00        32\n",
      "           2       0.94      0.95      0.95       599\n",
      "           3       1.00      0.20      0.33        40\n",
      "\n",
      "    accuracy                           0.85       864\n",
      "   macro avg       0.64      0.49      0.50       864\n",
      "weighted avg       0.84      0.85      0.83       864\n",
      "\n"
     ]
    },
    {
     "name": "stderr",
     "output_type": "stream",
     "text": [
      "c:\\users\\phand_2f80hbx\\appdata\\local\\programs\\python\\python38\\lib\\site-packages\\sklearn\\metrics\\_classification.py:1221: UndefinedMetricWarning: Precision and F-score are ill-defined and being set to 0.0 in labels with no predicted samples. Use `zero_division` parameter to control this behavior.\n",
      "  _warn_prf(average, modifier, msg_start, len(result))\n"
     ]
    }
   ],
   "source": [
    "from sklearn.svm import SVC\n",
    "from sklearn.pipeline import make_pipeline\n",
    "from sklearn.preprocessing import StandardScaler\n",
    "clf2 = make_pipeline(StandardScaler(), SVC(gamma='auto'))\n",
    "clf2.fit(X_train, y_train.values.ravel())\n",
    "predictions2 = clf2.predict(X_test)\n",
    "print(confusion_matrix(y_test,predictions2))\n",
    "print(classification_report(y_test,predictions2))"
   ]
  },
  {
   "cell_type": "code",
   "execution_count": 10,
   "metadata": {},
   "outputs": [
    {
     "name": "stdout",
     "output_type": "stream",
     "text": [
      "[[174   5  14   0]\n",
      " [ 11  21   0   0]\n",
      " [ 22   0 577   0]\n",
      " [ 14  19   0   7]]\n",
      "              precision    recall  f1-score   support\n",
      "\n",
      "           0       0.79      0.90      0.84       193\n",
      "           1       0.47      0.66      0.55        32\n",
      "           2       0.98      0.96      0.97       599\n",
      "           3       1.00      0.17      0.30        40\n",
      "\n",
      "    accuracy                           0.90       864\n",
      "   macro avg       0.81      0.67      0.66       864\n",
      "weighted avg       0.92      0.90      0.89       864\n",
      "\n"
     ]
    },
    {
     "name": "stderr",
     "output_type": "stream",
     "text": [
      "c:\\users\\phand_2f80hbx\\appdata\\local\\programs\\python\\python38\\lib\\site-packages\\sklearn\\neural_network\\_multilayer_perceptron.py:582: ConvergenceWarning: Stochastic Optimizer: Maximum iterations (300) reached and the optimization hasn't converged yet.\n",
      "  warnings.warn(\n"
     ]
    }
   ],
   "source": [
    "from sklearn.neural_network import MLPClassifier\n",
    "from sklearn.datasets import make_classification\n",
    "clf3 = MLPClassifier(hidden_layer_sizes=(10,10,10),random_state=1, max_iter=300).fit(X_train, y_train.values.ravel())\n",
    "predictions2 = clf3.predict(X_test)\n",
    "print(confusion_matrix(y_test,predictions2))\n",
    "print(classification_report(y_test,predictions2))"
   ]
  },
  {
   "cell_type": "code",
   "execution_count": 12,
   "metadata": {},
   "outputs": [
    {
     "name": "stdout",
     "output_type": "stream",
     "text": [
      "Epoch 1/10\n",
      "27/27 [==============================] - 0s 4ms/step - loss: 1.5439 - accuracy: 0.0891\n",
      "Epoch 2/10\n",
      "27/27 [==============================] - 0s 2ms/step - loss: 0.9225 - accuracy: 0.0590\n",
      "Epoch 3/10\n",
      "27/27 [==============================] - 0s 2ms/step - loss: 0.8538 - accuracy: 0.0521\n",
      "Epoch 4/10\n",
      "27/27 [==============================] - 0s 1ms/step - loss: 0.8220 - accuracy: 0.0486\n",
      "Epoch 5/10\n",
      "27/27 [==============================] - 0s 2ms/step - loss: 0.7976 - accuracy: 0.0451\n",
      "Epoch 6/10\n",
      "27/27 [==============================] - 0s 2ms/step - loss: 0.7896 - accuracy: 0.0451\n",
      "Epoch 7/10\n",
      "27/27 [==============================] - 0s 2ms/step - loss: 0.7672 - accuracy: 0.0440\n",
      "Epoch 8/10\n",
      "27/27 [==============================] - 0s 2ms/step - loss: 0.7542 - accuracy: 0.0440\n",
      "Epoch 9/10\n",
      "27/27 [==============================] - 0s 1ms/step - loss: 0.7461 - accuracy: 0.0440\n",
      "Epoch 10/10\n",
      "27/27 [==============================] - 0s 1ms/step - loss: 0.7365 - accuracy: 0.0428\n"
     ]
    }
   ],
   "source": [
    "import tensorflow as tf\n",
    "model = tf.keras.Sequential()\n",
    "model.add(tf.keras.layers.Dense(8))\n",
    "model.add(tf.keras.layers.Dense(1))\n",
    "model.compile(optimizer='sgd', loss='mse',metrics=['accuracy'])\n",
    "# This builds the model for the first time:\n",
    "clf4=model.fit(X_train, y_train, batch_size=32, epochs=10)\n"
   ]
  },
  {
   "cell_type": "code",
   "execution_count": 13,
   "metadata": {},
   "outputs": [
    {
     "data": {
      "image/png": "[encoded data removed]",
      "text/plain": [
       "<Figure size 432x288 with 1 Axes>"
      ]
     },
     "metadata": {
      "needs_background": "light"
     },
     "output_type": "display_data"
    }
   ],
   "source": [
    "es = tf.keras.callbacks.EarlyStopping(monitor='loss', patience=3)\n",
    "model = tf.keras.models.Sequential([tf.keras.layers.Dense(10)])\n",
    "model.compile(tf.keras.optimizers.SGD(), loss='mse')\n",
    "history = model.fit(X_train, y_train, validation_data=(X_test, y_test), epochs=4000, verbose=0, callbacks=[es])\n",
    "plt.plot(history.history['loss'], label='train')\n",
    "plt.plot(history.history['val_loss'], label='test')\n",
    "plt.legend()\n",
    "plt.show()\n"
   ]
  },
  {
   "cell_type": "code",
   "execution_count": null,
   "metadata": {},
   "outputs": [],
   "source": []
  },
  {
   "cell_type": "code",
   "execution_count": null,
   "metadata": {},
   "outputs": [],
   "source": []
  }
 ],
 "metadata": {
  "kernelspec": {
   "display_name": "Python 3",
   "language": "python",
   "name": "python3"
  },
  "language_info": {
   "codemirror_mode": {
    "name": "ipython",
    "version": 3
   },
   "file_extension": ".py",
   "mimetype": "text/x-python",
   "name": "python",
   "nbconvert_exporter": "python",
   "pygments_lexer": "ipython3",
   "version": "3.8.6rc1"
  }
 },
 "nbformat": 4,
 "nbformat_minor": 4
}
